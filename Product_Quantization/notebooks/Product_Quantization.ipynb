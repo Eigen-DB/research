{
 "cells": [
  {
   "cell_type": "markdown",
   "id": "adf6dc57-f614-42e6-8e63-3c922e33f057",
   "metadata": {},
   "source": [
    "# Product Quantization\n",
    "\n",
    "### Notebook written by Ryan Awad\n",
    "\n",
    "Links:\n",
    "- https://www.pinecone.io/learn/series/faiss/product-quantization/\n",
    "- https://inria.hal.science/inria-00514462v2/document"
   ]
  },
  {
   "cell_type": "code",
   "execution_count": 1,
   "id": "f8865071-f34f-482f-bc6a-6da675566880",
   "metadata": {},
   "outputs": [],
   "source": [
    "from random import randint, uniform\n",
    "import numpy as np\n",
    "from math import log2, ceil"
   ]
  },
  {
   "cell_type": "markdown",
   "id": "6b1be132-9ba5-40df-aac9-dc4f6a9597c3",
   "metadata": {},
   "source": [
    "### We are defining 5 random 12 dimensional vectors"
   ]
  },
  {
   "cell_type": "code",
   "execution_count": 2,
   "id": "bc890754-77f0-4b7a-b712-997ea63cbb0b",
   "metadata": {},
   "outputs": [],
   "source": [
    "dim = 12\n",
    "amount_of_vectors = 5\n",
    "large_vectors = [[uniform(-100.0,100.0) for i in range(dim)] for i in range(amount_of_vectors)]\n",
    "#large_vectors"
   ]
  },
  {
   "cell_type": "markdown",
   "id": "952cc223-09d9-42be-a96c-4556f95349c7",
   "metadata": {},
   "source": [
    "### We are defining some variables for the algorithm\n",
    "\n",
    "- `m`: dimensions of a compressed vector / how many sub-vectors will be created per vector\n",
    "- `D_`: dimensions of a sub-vector"
   ]
  },
  {
   "cell_type": "code",
   "execution_count": 3,
   "id": "31861065-a7c7-4044-b3e6-73bf9b0f56b1",
   "metadata": {},
   "outputs": [
    {
     "data": {
      "text/plain": [
       "3"
      ]
     },
     "execution_count": 3,
     "metadata": {},
     "output_type": "execute_result"
    }
   ],
   "source": [
    "m = 4 # dimensions of a compressed vector\n",
    "\n",
    "# ensure dim is divisable by m\n",
    "assert dim % m == 0\n",
    "# length of each subvector will be dim / m (D* in notation)\n",
    "D_ = int(dim / m)\n",
    "\n",
    "D_"
   ]
  },
  {
   "cell_type": "code",
   "execution_count": 4,
   "id": "d8452607-0970-4c80-8a99-c30e28192a16",
   "metadata": {},
   "outputs": [
    {
     "data": {
      "text/plain": [
       "[[[-54.700138239816056, -43.89459613315494, 42.77922047603576],\n",
       "  [-47.800174559679334, -67.99537143881791, 34.79883056429435],\n",
       "  [-70.21771795772436, -72.73921786942144, 19.686458648771833],\n",
       "  [0.26157904936408727, 31.299117583491352, 88.20935500064192]],\n",
       " [[-3.424943174158088, -39.888291875907676, 48.46925835051297],\n",
       "  [-62.181335415667014, 36.55960586352688, 64.20847369347621],\n",
       "  [92.65912419442824, -30.124153089185228, 67.9116042993661],\n",
       "  [56.52168499971839, -12.302040748724252, -5.152890065980628]],\n",
       " [[-56.56888535476967, 57.67132045753428, 89.08142456710598],\n",
       "  [44.50868926315778, 44.654171389976995, -67.61334918291485],\n",
       "  [10.239987194046392, -31.701813900225815, -51.37523522564924],\n",
       "  [57.219234299487255, 64.13722325207453, 3.2272766245328626]],\n",
       " [[-70.90570218417088, -59.3306374361906, 67.35684075768319],\n",
       "  [-63.95133667749131, -94.88805725482332, -72.67086359098518],\n",
       "  [11.572603914238996, 54.06640771328003, -49.92723789639493],\n",
       "  [44.67143822128193, 76.51382766941924, 59.48504435315607]],\n",
       " [[13.11293980478115, 92.41083398440239, 50.04698887085223],\n",
       "  [72.12511938531688, 86.64584385677671, 15.705804270501702],\n",
       "  [16.477842056533134, -8.78532861329387, -89.6974301300326],\n",
       "  [-25.223237861794118, -17.629867146244436, 76.04286666632845]]]"
      ]
     },
     "execution_count": 4,
     "metadata": {},
     "output_type": "execute_result"
    }
   ],
   "source": [
    "# now create the subvectors\n",
    "u_vectors = []\n",
    "for x in large_vectors:\n",
    "    u = [x[row:row+D_] for row in range(0, dim, D_)]\n",
    "    u_vectors.append(u)\n",
    "\n",
    "u_vectors"
   ]
  },
  {
   "cell_type": "markdown",
   "id": "b2e13491-2831-47e9-9c19-8c9fd37ddfd7",
   "metadata": {},
   "source": [
    "# Important\n",
    "- `k`: total number of centroids generated\n",
    "- `k_`: number of centroids to choose from per sub-vector\n",
    "\n",
    "Notice how when you increase `k`, `k_` will increase proportionally. And as `k_` increases, the compressed vector size also increases, WHILE the distances between the regenerated vectors and the actual vectors decrease. In addition, as `k_` increases, so does the time needed to generate the centroids, as well as compressing a vector.\n",
    "\n",
    "This is because as `k_` increases, each sub-vector gets to choose from a large amount of randomly generated centroids. Probablistically, a sub-vector will find a much better centroid than if `k_` was smaller which would give each sub-vector less options. This causes the average distance between regenerated vectors and actual vectors to decrease.\n",
    "\n",
    "In addition, as `k_` increases, each sub-vector will have a larger amount of centroids to choose from, making the compression algorithm take longer\n",
    "\n",
    "On the other hand, each sub-vector is converted into a centroid ID, as part of the compression algorithm. Since each sub-vector gets `k_` centroids to choose from, each ID will need to have allocated memory to store a value between 0 to `k_`-1. Therefore, as `k_` increases, the overall size of a compressed vector will increase. "
   ]
  },
  {
   "cell_type": "code",
   "execution_count": 5,
   "id": "5e2780de-2b1b-4209-9f4f-ac91ab20068c",
   "metadata": {},
   "outputs": [
    {
     "name": "stdout",
     "output_type": "stream",
     "text": [
      "k=1024, k_=256\n",
      "Compressed vector size: 4 bytes\n",
      "Centroid map size: 12288 bytes\n"
     ]
    }
   ],
   "source": [
    "k = 2**10\n",
    "assert k % m == 0\n",
    "k_ = int(k/m)\n",
    "print(f\"{k=}, {k_=}\")\n",
    "print(f\"Compressed vector size: {ceil(ceil(log2(k_))/8) * m} bytes\")\n",
    "print(f\"Centroid map size: {ceil(k*D_*(32/8))} bytes\")"
   ]
  },
  {
   "cell_type": "markdown",
   "id": "66710797-b234-4c09-9f13-76e975c76d92",
   "metadata": {},
   "source": [
    "### Randomly generating the centroids"
   ]
  },
  {
   "cell_type": "code",
   "execution_count": 6,
   "id": "3118748e-28c5-4b59-8ed5-d034024c85d1",
   "metadata": {},
   "outputs": [],
   "source": [
    "c = []  # our overall list of reproduction values\n",
    "for j in range(m):\n",
    "    # each j represents a subvector (and therefore subquantizer) position\n",
    "    c_j = []\n",
    "    for i in range(k_):\n",
    "        # each i represents a cluster/reproduction value position *inside* each subspace j\n",
    "        c_ji = [uniform(-100.0,100.0) for _ in range(D_)]\n",
    "        c_j.append(c_ji)  # add cluster centroid to subspace list\n",
    "    # add subspace list of centroids to overall list\n",
    "    c.append(c_j)\n",
    "#c"
   ]
  },
  {
   "cell_type": "code",
   "execution_count": 7,
   "id": "d6da87c8-de20-4f7d-adb7-d133412db8ce",
   "metadata": {},
   "outputs": [],
   "source": [
    "def euclidean(v, u):\n",
    "    distance = sum((x - y) ** 2 for x, y in zip(v, u)) ** .5\n",
    "    return distance\n",
    "\n",
    "'''\n",
    "c_j is the SET of centroids for the specific sub-vector u_j\n",
    "\n",
    "this function finds the nearest centroid to a sub-vector\n",
    "'''\n",
    "def nearest(c_j, u_j):\n",
    "    distance = 9e+9\n",
    "    for i in range(k_):\n",
    "        new_dist = euclidean(c_j[i], u_j)\n",
    "        if new_dist < distance:\n",
    "            nearest_idx = i\n",
    "            distance = new_dist\n",
    "    return nearest_idx"
   ]
  },
  {
   "cell_type": "markdown",
   "id": "aa8628a0-810a-438d-901c-d306588feafb",
   "metadata": {},
   "source": [
    "### Compressing the vectors"
   ]
  },
  {
   "cell_type": "code",
   "execution_count": 8,
   "id": "c49fff82-7b44-4de8-b673-fe5a1a3b95ea",
   "metadata": {},
   "outputs": [
    {
     "data": {
      "text/plain": [
       "[[244, 151, 109, 176],\n",
       " [140, 57, 236, 93],\n",
       " [102, 243, 21, 47],\n",
       " [249, 108, 60, 106],\n",
       " [104, 215, 80, 27]]"
      ]
     },
     "execution_count": 8,
     "metadata": {},
     "output_type": "execute_result"
    }
   ],
   "source": [
    "compressed_vectors = [] # ids of the nearest centroid for each sub-vector\n",
    "for u in u_vectors:\n",
    "    curr_compressed_vec = []\n",
    "    for j in range(m):\n",
    "        i = nearest(c[j], u[j])\n",
    "        curr_compressed_vec.append(i)\n",
    "    compressed_vectors.append(curr_compressed_vec)\n",
    "\n",
    "#print(f'old dimension: {len(x)}\\ncompressed dimension: {len(ids)}')\n",
    "compressed_vectors"
   ]
  },
  {
   "cell_type": "markdown",
   "id": "97a5a322-6f95-43e4-9ca5-50e6ce359dc7",
   "metadata": {},
   "source": [
    "### Defining an error function\n",
    "\n",
    "This error function only cares about how much the distance of regenerated vectors <u>RELATIVE TO EACH OTHER</u> changed. This is because, in vector similarity search, the relative distance of vectors is the only thing that matters. They're actual position in the vector space means nothing if their distance relative to each other stays the same or similar. \n",
    "\n",
    "Computations\n",
    "1. Computes the distance between all the uncompressed vectors, and the distance between the regenerated vectors\n",
    "2. Computes the absolute different between the two distance arrays into an array\n",
    "3. Returns the average absolute difference\n",
    "\n",
    "### TODO:\n",
    "- Since vectors can be of various size, the error can sometimes be really big, but at the same time not be signficant when compared relative to the vector's size.\n",
    "    - The error should take the average absolute difference and make it relative to the size of the vectors"
   ]
  },
  {
   "cell_type": "code",
   "execution_count": 9,
   "id": "f97d3dec-7478-419c-a069-fb4ea8d409c6",
   "metadata": {},
   "outputs": [],
   "source": [
    "def get_transformation_err(regen, old) -> float:\n",
    "    r_dists = []\n",
    "    o_dists = []\n",
    "    for i in range(len(regen)):\n",
    "        for j in range(len(regen)):\n",
    "            if i < j:\n",
    "                r_dists.append(euclidean(regen[i], regen[j]))\n",
    "    for i in range(len(old)):\n",
    "        for j in range(len(old)):\n",
    "            if i < j:\n",
    "                o_dists.append(euclidean(old[i], old[j]))\n",
    "\n",
    "    print(r_dists)\n",
    "    print(o_dists)\n",
    "\n",
    "    error = sum([abs(r - o) for r, o in zip(r_dists, o_dists)]) / len(r_dists)\n",
    "    return error"
   ]
  },
  {
   "cell_type": "markdown",
   "id": "f9859254-e002-46d9-9dbd-72f3d09e2038",
   "metadata": {},
   "source": [
    "### Regenerating the vectors from the compressed vectors"
   ]
  },
  {
   "cell_type": "code",
   "execution_count": 10,
   "id": "581cb14b-84d3-4182-8813-417ebee89a08",
   "metadata": {},
   "outputs": [],
   "source": [
    "regen_vecs = []\n",
    "for comp in compressed_vectors:\n",
    "    curr_regen = []\n",
    "    for j in range(m):\n",
    "        c_ji = c[j][comp[j]] # take the nearest centroid to each sub-vector using their index i\n",
    "        curr_regen.extend(c_ji)\n",
    "    regen_vecs.append(curr_regen)"
   ]
  },
  {
   "cell_type": "markdown",
   "id": "df94ef24-9a8c-46ce-a5b3-3fb376184dd9",
   "metadata": {},
   "source": [
    "### Results & Statistics\n",
    "- Printing old and regenerated vectors\n",
    "- The distance between regenerated and old vectors\n",
    "- The average distance between regenerated and old vectors (not a great error metric as described in the cell above the error function definition)\n",
    "- The output of the error function defined above\n",
    "- The size of a compressed vector vs an old vector\n",
    "- The compression $\\%$"
   ]
  },
  {
   "cell_type": "code",
   "execution_count": 11,
   "id": "e750e0e3-2394-46ef-be0d-b016147597b2",
   "metadata": {},
   "outputs": [
    {
     "name": "stdout",
     "output_type": "stream",
     "text": [
      "Regenerated vectors from compressed vectors:\n",
      "[[-59.15684011 -44.82010568  43.66388861 -44.53905337 -68.89517964\n",
      "   31.34406289 -99.09862716 -78.34977659   9.31678057   6.67918896\n",
      "   26.81270135  73.26773636]\n",
      " [-15.49505867 -27.68558465  40.98824096 -74.83864206  27.46040693\n",
      "   47.56061513  76.51076495 -21.74335753  60.7490854   49.63523948\n",
      "  -11.8562858   -8.96491367]\n",
      " [-63.74716034  36.41362832  86.31573235  58.35233552  47.76715061\n",
      "  -69.23831323   7.54577674 -26.66743136 -60.03297656  64.3545244\n",
      "   56.18855078   8.0301435 ]\n",
      " [-72.92452896 -66.65719551  77.1402021  -71.66862416 -77.28619085\n",
      "  -76.10712675   1.12486119  59.55184034 -43.49985458  45.56692013\n",
      "   74.85646808  43.52156801]\n",
      " [ 25.85185026  68.41673642  45.7155241   73.46736692  90.80197016\n",
      "   15.52145289  50.1321212  -13.01635806 -82.04962061  -7.64764034\n",
      "   -9.53599322  80.9679464 ]]\n",
      "Old vectors:\n",
      "[[-54.70013824 -43.89459613  42.77922048 -47.80017456 -67.99537144\n",
      "   34.79883056 -70.21771796 -72.73921787  19.68645865   0.26157905\n",
      "   31.29911758  88.209355  ]\n",
      " [ -3.42494317 -39.88829188  48.46925835 -62.18133542  36.55960586\n",
      "   64.20847369  92.65912419 -30.12415309  67.9116043   56.521685\n",
      "  -12.30204075  -5.15289007]\n",
      " [-56.56888535  57.67132046  89.08142457  44.50868926  44.65417139\n",
      "  -67.61334918  10.23998719 -31.7018139  -51.37523523  57.2192343\n",
      "   64.13722325   3.22727662]\n",
      " [-70.90570218 -59.33063744  67.35684076 -63.95133668 -94.88805725\n",
      "  -72.67086359  11.57260391  54.06640771 -49.9272379   44.67143822\n",
      "   76.51382767  59.48504435]\n",
      " [ 13.1129398   92.41083398  50.04698887  72.12511939  86.64584386\n",
      "   15.70580427  16.47784206  -8.78532861 -89.69743013 -25.22323786\n",
      "  -17.62986715  76.04286667]]\n",
      "Distances:\n",
      "[36.091030847167886, 36.26535083000171, 30.98008071705679, 31.202504168404033, 48.821481783396095]\n",
      "Average distance: 36.67\n",
      "[243.8513719450325, 264.67250107779057, 225.15715924045438, 310.168001086405, 254.5389117724661, 256.6121056901833, 265.59179063352616, 230.41792347340072, 193.06441416150298, 327.4342385773892]\n",
      "[243.1756654583667, 262.51450747052075, 214.69942860328143, 297.74776173703617, 264.1121145055563, 284.71352067084564, 291.68702998272744, 237.6210714964322, 194.60606882650453, 330.52165541982765]\n",
      "ERROR: 10.131374667390272\n",
      "Compressed vector size: 4 bytes\n",
      "Old vector size: 48 bytes\n",
      "91.67% compression\n"
     ]
    }
   ],
   "source": [
    "dists = []\n",
    "for i in range(amount_of_vectors):\n",
    "    dists.append(euclidean(regen_vecs[i], large_vectors[i]))\n",
    "\n",
    "print(f'Regenerated vectors from compressed vectors:\\n{np.array(regen_vecs)}')\n",
    "print(f'Old vectors:\\n{np.array(large_vectors)}')\n",
    "\n",
    "print(f'Distances:\\n{dists}')\n",
    "print(f'Average distance: {round(sum(dists)/amount_of_vectors, 2)}')\n",
    "print(f'ERROR: {get_transformation_err(regen_vecs, large_vectors)}')\n",
    "\n",
    "new_size = ceil(ceil(log2(k_))/8) * m\n",
    "old_size = dim * ceil(32/8)\n",
    "\n",
    "print(f\"Compressed vector size: {new_size} bytes\")\n",
    "print(f\"Old vector size: {old_size} bytes\")\n",
    "print(f\"{round((1 - (new_size/old_size))*100, 2)}% compression\")"
   ]
  }
 ],
 "metadata": {
  "kernelspec": {
   "display_name": "Python 3 (ipykernel)",
   "language": "python",
   "name": "python3"
  },
  "language_info": {
   "codemirror_mode": {
    "name": "ipython",
    "version": 3
   },
   "file_extension": ".py",
   "mimetype": "text/x-python",
   "name": "python",
   "nbconvert_exporter": "python",
   "pygments_lexer": "ipython3",
   "version": "3.12.8"
  }
 },
 "nbformat": 4,
 "nbformat_minor": 5
}
